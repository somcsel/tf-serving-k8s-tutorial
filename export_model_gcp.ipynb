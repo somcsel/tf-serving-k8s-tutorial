{
 "cells": [
  {
   "cell_type": "markdown",
   "metadata": {},
   "source": [
    "# Export Model to Google Cloud Storage\n",
    "\n",
    "The following snippet allows you to export your model to Google Storage on the Google Cloud Platform using gcloud commands."
   ]
  },
  {
   "cell_type": "code",
   "execution_count": 1,
   "metadata": {},
   "outputs": [],
   "source": [
    "# Set your BUCKET name based on the project to guarantee that it is unique\n",
    "PROJECT = !gcloud config get-value project\n",
    "BUCKET = PROJECT[0] + '-bucket'"
   ]
  },
  {
   "cell_type": "code",
   "execution_count": 2,
   "metadata": {},
   "outputs": [
    {
     "name": "stdout",
     "output_type": "stream",
     "text": [
      "Creating gs://qwiklabs-gcp-3c7da09e812089db-bucket/...\r\n"
     ]
    }
   ],
   "source": [
    "# Make the Google storage bucket\n",
    "!gsutil mb gs://{BUCKET}"
   ]
  },
  {
   "cell_type": "code",
   "execution_count": 4,
   "metadata": {},
   "outputs": [
    {
     "name": "stdout",
     "output_type": "stream",
     "text": [
      "Copying file://estimator_servable/1536695146/saved_model.pb [Content-Type=application/octet-stream]...\n",
      "Copying file://estimator_servable/1536695146/variables/variables.index [Content-Type=application/octet-stream]...\n",
      "Copying file://estimator_servable/1536695146/variables/variables.data-00000-of-00001 [Content-Type=application/octet-stream]...\n",
      "\\ [3/3 files][ 98.2 MiB/ 98.2 MiB] 100% Done                                    \n",
      "Operation completed over 3 objects/98.2 MiB.                                     \n"
     ]
    }
   ],
   "source": [
    "# Copy over your servable model to the bucket\n",
    "!gsutil -m cp -r 'estimator_servable/1536695146' gs://{BUCKET}/"
   ]
  },
  {
   "cell_type": "code",
   "execution_count": 5,
   "metadata": {},
   "outputs": [
    {
     "data": {
      "text/plain": [
       "'qwiklabs-gcp-3c7da09e812089db-bucket'"
      ]
     },
     "execution_count": 5,
     "metadata": {},
     "output_type": "execute_result"
    }
   ],
   "source": [
    "BUCKET"
   ]
  },
  {
   "cell_type": "code",
   "execution_count": null,
   "metadata": {},
   "outputs": [],
   "source": []
  }
 ],
 "metadata": {
  "kernelspec": {
   "display_name": "Python 3",
   "language": "python",
   "name": "python3"
  },
  "language_info": {
   "codemirror_mode": {
    "name": "ipython",
    "version": 3
   },
   "file_extension": ".py",
   "mimetype": "text/x-python",
   "name": "python",
   "nbconvert_exporter": "python",
   "pygments_lexer": "ipython3",
   "version": "3.6.4"
  }
 },
 "nbformat": 4,
 "nbformat_minor": 2
}
